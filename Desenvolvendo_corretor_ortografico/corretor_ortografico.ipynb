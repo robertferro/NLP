{
  "nbformat": 4,
  "nbformat_minor": 0,
  "metadata": {
    "colab": {
      "name": "corretor_ortografico.ipynb",
      "provenance": [],
      "collapsed_sections": []
    },
    "kernelspec": {
      "name": "python3",
      "display_name": "Python 3"
    },
    "language_info": {
      "name": "python"
    }
  },
  "cells": [
    {
      "cell_type": "code",
      "metadata": {
        "id": "aGKjtTlayi5M"
      },
      "source": [
        "import nltk"
      ],
      "execution_count": 5,
      "outputs": []
    },
    {
      "cell_type": "code",
      "metadata": {
        "colab": {
          "base_uri": "https://localhost:8080/"
        },
        "id": "LVLKh3WgCQ0I",
        "outputId": "1393d654-8d66-4211-b260-67395fe70ada"
      },
      "source": [
        "with open('artigos.txt','r') as f:\n",
        "  artigos = f.read()\n",
        "\n",
        "print(artigos[:100])"
      ],
      "execution_count": 39,
      "outputs": [
        {
          "output_type": "stream",
          "text": [
            "\n",
            "\n",
            "\n",
            "imagem \n",
            "\n",
            "Temos a seguinte classe que representa um usuário no nosso sistema:\n",
            "\n",
            "java\n",
            "\n",
            "Para salvar u\n"
          ],
          "name": "stdout"
        }
      ]
    },
    {
      "cell_type": "code",
      "metadata": {
        "colab": {
          "base_uri": "https://localhost:8080/"
        },
        "id": "qYmnxKNz1GET",
        "outputId": "50e89267-74d0-4845-d5ad-a346d3f9b395"
      },
      "source": [
        "nltk.download('punkt')"
      ],
      "execution_count": 6,
      "outputs": [
        {
          "output_type": "stream",
          "text": [
            "[nltk_data] Downloading package punkt to /root/nltk_data...\n",
            "[nltk_data]   Unzipping tokenizers/punkt.zip.\n"
          ],
          "name": "stdout"
        },
        {
          "output_type": "execute_result",
          "data": {
            "text/plain": [
              "True"
            ]
          },
          "metadata": {
            "tags": []
          },
          "execution_count": 6
        }
      ]
    },
    {
      "cell_type": "markdown",
      "metadata": {
        "id": "G46dMs_-C8_s"
      },
      "source": [
        "- A função abaixo serve para retornar apenas as  palavras de um texto, onde foi feito a tokenzação e padronização para que todas as palavras retornem com escrita em letras minúsculas."
      ]
    },
    {
      "cell_type": "code",
      "metadata": {
        "id": "xCMy_tYn-Rvc"
      },
      "source": [
        "#  função que recebe um texto retorna apenas uma lista com palavras\n",
        "def tokenizacao(texto):\n",
        "  lista_de_palavras=[]\n",
        "  lista_tokens = nltk.tokenize.word_tokenize(texto)\n",
        "  lista_de_tokens = [palavra.lower() for palavra in lista_tokens]\n",
        "  for token in lista_de_tokens:\n",
        "    if token.isalpha():\n",
        "      lista_de_palavras.append(token)\n",
        "\n",
        "  return lista_de_palavras"
      ],
      "execution_count": 33,
      "outputs": []
    },
    {
      "cell_type": "code",
      "metadata": {
        "colab": {
          "base_uri": "https://localhost:8080/"
        },
        "id": "LlF2LvZUDXLi",
        "outputId": "86718e35-4bd5-43f2-9e31-2728672a3996"
      },
      "source": [
        "teste='OLÁ, SEJA BEM VINDO  a um projeto de NlP'\n",
        "\n",
        "tokenizacao(teste)"
      ],
      "execution_count": 40,
      "outputs": [
        {
          "output_type": "execute_result",
          "data": {
            "text/plain": [
              "['olá', 'seja', 'bem', 'vindo', 'a', 'um', 'projeto', 'de', 'nlp']"
            ]
          },
          "metadata": {
            "tags": []
          },
          "execution_count": 40
        }
      ]
    },
    {
      "cell_type": "code",
      "metadata": {
        "colab": {
          "base_uri": "https://localhost:8080/"
        },
        "id": "bsBtsNbEEJLG",
        "outputId": "6831c2df-2dc8-4575-fc68-129b966e08d7"
      },
      "source": [
        "tokenizacao(artigos[:115])"
      ],
      "execution_count": 44,
      "outputs": [
        {
          "output_type": "execute_result",
          "data": {
            "text/plain": [
              "['imagem',\n",
              " 'temos',\n",
              " 'a',\n",
              " 'seguinte',\n",
              " 'classe',\n",
              " 'que',\n",
              " 'representa',\n",
              " 'um',\n",
              " 'usuário',\n",
              " 'no',\n",
              " 'nosso',\n",
              " 'sistema',\n",
              " 'java',\n",
              " 'para',\n",
              " 'salvar',\n",
              " 'um',\n",
              " 'novo',\n",
              " 'usuário']"
            ]
          },
          "metadata": {
            "tags": []
          },
          "execution_count": 44
        }
      ]
    },
    {
      "cell_type": "markdown",
      "metadata": {
        "id": "S2kvC7C3Dt7H"
      },
      "source": [
        "- Eliminando as palavras repetidas de um texto"
      ]
    },
    {
      "cell_type": "code",
      "metadata": {
        "colab": {
          "base_uri": "https://localhost:8080/"
        },
        "id": "GY8IKm2jCa4m",
        "outputId": "31307d07-518d-43f6-fe44-0efa40c854db"
      },
      "source": [
        "# quantidade de palavras no arquivo artigos.txt\n",
        " \n",
        "print(len(tokenizacao(artigos)))"
      ],
      "execution_count": 38,
      "outputs": [
        {
          "output_type": "stream",
          "text": [
            "393914\n"
          ],
          "name": "stdout"
        }
      ]
    },
    {
      "cell_type": "code",
      "metadata": {
        "colab": {
          "base_uri": "https://localhost:8080/"
        },
        "id": "GiZX__FnEm3x",
        "outputId": "cee73050-1f17-47c1-8ac7-49b4cc06d4c1"
      },
      "source": [
        "#  removendo palavras repetidas\n",
        "print(len(set(tokenizacao(artigos))))"
      ],
      "execution_count": 45,
      "outputs": [
        {
          "output_type": "stream",
          "text": [
            "17652\n"
          ],
          "name": "stdout"
        }
      ]
    },
    {
      "cell_type": "code",
      "metadata": {
        "id": "YBHr71uhK3JJ"
      },
      "source": [
        "#  criando função para fatiar e criar novas palavras\n",
        "def inserir_letras(fatias):\n",
        "  novas_palavras=[]\n",
        "  letras = 'abcdefghijklmnopqrstuvwxyzàáâãèéêìíîòóôõùúûç'\n",
        "  for E,D in fatias:\n",
        "    for letra in letras:\n",
        "      novas_palavras.append(E+ letra + D)\n",
        "\n",
        "  return novas_palavras\n",
        "\n",
        "def gerador_de_palavras(palavra):\n",
        "  fatias=[]\n",
        "  for i in range(len(palavra)+1):\n",
        "    fatias.append((palavra[:i], palavra[i:]))\n",
        "\n",
        "  palavras_geradas=inserir_letras(fatias)\n",
        "  \n",
        "  return palavras_geradas"
      ],
      "execution_count": 75,
      "outputs": []
    },
    {
      "cell_type": "code",
      "metadata": {
        "colab": {
          "base_uri": "https://localhost:8080/"
        },
        "id": "WF7-rif8K7wV",
        "outputId": "f32c1f66-d213-4ce7-b2b9-bb4837c194c8"
      },
      "source": [
        "palavra='jse'\n",
        "gerador_de_palavras(palavra)"
      ],
      "execution_count": 76,
      "outputs": [
        {
          "output_type": "execute_result",
          "data": {
            "text/plain": [
              "['ajse',\n",
              " 'bjse',\n",
              " 'cjse',\n",
              " 'djse',\n",
              " 'ejse',\n",
              " 'fjse',\n",
              " 'gjse',\n",
              " 'hjse',\n",
              " 'ijse',\n",
              " 'jjse',\n",
              " 'kjse',\n",
              " 'ljse',\n",
              " 'mjse',\n",
              " 'njse',\n",
              " 'ojse',\n",
              " 'pjse',\n",
              " 'qjse',\n",
              " 'rjse',\n",
              " 'sjse',\n",
              " 'tjse',\n",
              " 'ujse',\n",
              " 'vjse',\n",
              " 'wjse',\n",
              " 'xjse',\n",
              " 'yjse',\n",
              " 'zjse',\n",
              " 'àjse',\n",
              " 'ájse',\n",
              " 'âjse',\n",
              " 'ãjse',\n",
              " 'èjse',\n",
              " 'éjse',\n",
              " 'êjse',\n",
              " 'ìjse',\n",
              " 'íjse',\n",
              " 'îjse',\n",
              " 'òjse',\n",
              " 'ójse',\n",
              " 'ôjse',\n",
              " 'õjse',\n",
              " 'ùjse',\n",
              " 'újse',\n",
              " 'ûjse',\n",
              " 'çjse',\n",
              " 'jase',\n",
              " 'jbse',\n",
              " 'jcse',\n",
              " 'jdse',\n",
              " 'jese',\n",
              " 'jfse',\n",
              " 'jgse',\n",
              " 'jhse',\n",
              " 'jise',\n",
              " 'jjse',\n",
              " 'jkse',\n",
              " 'jlse',\n",
              " 'jmse',\n",
              " 'jnse',\n",
              " 'jose',\n",
              " 'jpse',\n",
              " 'jqse',\n",
              " 'jrse',\n",
              " 'jsse',\n",
              " 'jtse',\n",
              " 'juse',\n",
              " 'jvse',\n",
              " 'jwse',\n",
              " 'jxse',\n",
              " 'jyse',\n",
              " 'jzse',\n",
              " 'jàse',\n",
              " 'jáse',\n",
              " 'jâse',\n",
              " 'jãse',\n",
              " 'jèse',\n",
              " 'jése',\n",
              " 'jêse',\n",
              " 'jìse',\n",
              " 'jíse',\n",
              " 'jîse',\n",
              " 'jòse',\n",
              " 'jóse',\n",
              " 'jôse',\n",
              " 'jõse',\n",
              " 'jùse',\n",
              " 'júse',\n",
              " 'jûse',\n",
              " 'jçse',\n",
              " 'jsae',\n",
              " 'jsbe',\n",
              " 'jsce',\n",
              " 'jsde',\n",
              " 'jsee',\n",
              " 'jsfe',\n",
              " 'jsge',\n",
              " 'jshe',\n",
              " 'jsie',\n",
              " 'jsje',\n",
              " 'jske',\n",
              " 'jsle',\n",
              " 'jsme',\n",
              " 'jsne',\n",
              " 'jsoe',\n",
              " 'jspe',\n",
              " 'jsqe',\n",
              " 'jsre',\n",
              " 'jsse',\n",
              " 'jste',\n",
              " 'jsue',\n",
              " 'jsve',\n",
              " 'jswe',\n",
              " 'jsxe',\n",
              " 'jsye',\n",
              " 'jsze',\n",
              " 'jsàe',\n",
              " 'jsáe',\n",
              " 'jsâe',\n",
              " 'jsãe',\n",
              " 'jsèe',\n",
              " 'jsée',\n",
              " 'jsêe',\n",
              " 'jsìe',\n",
              " 'jsíe',\n",
              " 'jsîe',\n",
              " 'jsòe',\n",
              " 'jsóe',\n",
              " 'jsôe',\n",
              " 'jsõe',\n",
              " 'jsùe',\n",
              " 'jsúe',\n",
              " 'jsûe',\n",
              " 'jsçe',\n",
              " 'jsea',\n",
              " 'jseb',\n",
              " 'jsec',\n",
              " 'jsed',\n",
              " 'jsee',\n",
              " 'jsef',\n",
              " 'jseg',\n",
              " 'jseh',\n",
              " 'jsei',\n",
              " 'jsej',\n",
              " 'jsek',\n",
              " 'jsel',\n",
              " 'jsem',\n",
              " 'jsen',\n",
              " 'jseo',\n",
              " 'jsep',\n",
              " 'jseq',\n",
              " 'jser',\n",
              " 'jses',\n",
              " 'jset',\n",
              " 'jseu',\n",
              " 'jsev',\n",
              " 'jsew',\n",
              " 'jsex',\n",
              " 'jsey',\n",
              " 'jsez',\n",
              " 'jseà',\n",
              " 'jseá',\n",
              " 'jseâ',\n",
              " 'jseã',\n",
              " 'jseè',\n",
              " 'jseé',\n",
              " 'jseê',\n",
              " 'jseì',\n",
              " 'jseí',\n",
              " 'jseî',\n",
              " 'jseò',\n",
              " 'jseó',\n",
              " 'jseô',\n",
              " 'jseõ',\n",
              " 'jseù',\n",
              " 'jseú',\n",
              " 'jseû',\n",
              " 'jseç']"
            ]
          },
          "metadata": {
            "tags": []
          },
          "execution_count": 76
        }
      ]
    },
    {
      "cell_type": "code",
      "metadata": {
        "id": "3ziwUanGNQ-m"
      },
      "source": [
        ""
      ],
      "execution_count": null,
      "outputs": []
    }
  ]
}